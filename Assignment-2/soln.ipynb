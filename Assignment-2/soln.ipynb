{
 "cells": [
  {
   "cell_type": "markdown",
   "id": "44930497",
   "metadata": {},
   "source": [
    "# **GROUP 10**\n",
    "\n",
    "**Group Members**  \n",
    "Saaumitra Raaj (220928), Swarnim Verma (231071), Abdul Ahad Zareef (230030)"
   ]
  },
  {
   "cell_type": "markdown",
   "id": "25af3cc9",
   "metadata": {},
   "source": [
    "**IMPORTING THE NECESSARY LIBRARIES**"
   ]
  },
  {
   "cell_type": "code",
   "execution_count": 1,
   "id": "fe7a51e8",
   "metadata": {},
   "outputs": [],
   "source": [
    "import numpy as np\n",
    "import plotly.graph_objects as go\n",
    "import ipywidgets as widgets\n",
    "from IPython.display import display\n",
    "from vtk import *\n",
    "from vtkmodules.util import numpy_support"
   ]
  },
  {
   "cell_type": "markdown",
   "id": "7ecf699f",
   "metadata": {},
   "source": [
    "**LOADING THE DATASET**\n",
    "\n",
    "CHANGE THE PATH OF THE DATASET AS PER YOUR SYSTEM\n"
   ]
  },
  {
   "cell_type": "code",
   "execution_count": 2,
   "id": "f56f8734",
   "metadata": {},
   "outputs": [],
   "source": [
    "# Load the dataset\n",
    "reader = vtkXMLImageDataReader()\n",
    "reader.SetFileName(\"/Users/saaumitraraaj/Desktop/CS661/Assignment2/mixture.vti\") # change the path of your dataset\n",
    "reader.Update()\n",
    "vti_data = reader.GetOutput()"
   ]
  },
  {
   "cell_type": "markdown",
   "id": "b2342a60",
   "metadata": {},
   "source": [
    "GRID & SCALAR DATA EXTRACTION"
   ]
  },
  {
   "cell_type": "code",
   "execution_count": 3,
   "id": "15b6ff15",
   "metadata": {},
   "outputs": [],
   "source": [
    "point_data = vti_data.GetPointData()\n",
    "scalar_name = point_data.GetArrayName(0)\n",
    "vtk_array = point_data.GetArray(scalar_name)\n",
    "flat_val = numpy_support.vtk_to_numpy(vtk_array)\n",
    "\n",
    "# Grid and scalar data \n",
    "dims = vti_data.GetDimensions()\n",
    "volume_data = flat_val.reshape(dims, order='F')"
   ]
  },
  {
   "cell_type": "markdown",
   "id": "8ee13cb6",
   "metadata": {},
   "source": [
    "**ISOSURFACE AND HISTOGRAM FUNCTION**"
   ]
  },
  {
   "cell_type": "code",
   "execution_count": 4,
   "id": "9cf0ffc1",
   "metadata": {},
   "outputs": [],
   "source": [
    "# Extract scalar field\n",
    "x = np.arange(0, dims[0])\n",
    "y = np.arange(0, dims[1])\n",
    "z = np.arange(0, dims[2])\n",
    "X, Y, Z = np.meshgrid(x, y, z, indexing='ij')\n",
    "\n",
    "flat_x = X.flatten()\n",
    "flat_y = Y.flatten()\n",
    "flat_z = Z.flatten()\n",
    "flat_val = volume_data.flatten()\n",
    "\n",
    "data_min = float(np.min(flat_val))\n",
    "data_max = float(np.max(flat_val))\n",
    "\n",
    "# Iso-surface function\n",
    "def create_isosurface(isovalue):\n",
    "    fig = go.Figure()\n",
    "    fig.add_trace(go.Isosurface(\n",
    "        x=flat_x, y=flat_y, z=flat_z,\n",
    "        value=flat_val,\n",
    "        isomin=isovalue,\n",
    "        isomax=isovalue,\n",
    "        surface_count=1,\n",
    "        colorscale='plasma',\n",
    "        cmin=data_min,\n",
    "        cmax=data_max,\n",
    "        caps=dict(x_show=False, y_show=False, z_show=False),\n",
    "        showscale=False  \n",
    "    ))\n",
    "    fig.update_layout(\n",
    "        title=f\"Isosurface at isovalue = {isovalue:.2f}\",\n",
    "        width=500, height=500,\n",
    "        margin=dict(l=0, r=0, t=30),\n",
    "        scene=dict(\n",
    "            xaxis=dict(title='x', showticklabels=False),\n",
    "            yaxis=dict(title='y', showticklabels=False),\n",
    "            zaxis=dict(title='z', showticklabels=False)\n",
    "        )\n",
    "    )\n",
    "    return fig\n",
    "\n",
    "# Histogram function\n",
    "def create_histogram(isovalue=None):\n",
    "    if isovalue is None:\n",
    "        data = flat_val\n",
    "    else:\n",
    "        mask = np.abs(flat_val - isovalue) <= 0.25\n",
    "        data = flat_val[mask]\n",
    "\n",
    "    fig = go.Figure()\n",
    "    fig.add_trace(go.Histogram(\n",
    "        x=data,\n",
    "        nbinsx=50,\n",
    "        marker_color='cornflowerblue' # almost matching with the colour depicted in the samples :)\n",
    "    ))\n",
    "    fig.update_layout(\n",
    "        xaxis_title=\"Vortex scalar values\",\n",
    "        yaxis_title=\"Frequency\",\n",
    "        yaxis=dict(tickformat=\"~s\"),  # 5k instead of 5000\n",
    "        width=500,\n",
    "        height=500\n",
    "    )\n",
    "    return fig"
   ]
  },
  {
   "cell_type": "markdown",
   "id": "3e139294",
   "metadata": {},
   "source": [
    "WIDGETS INITIALIZATION - SLIDER AND RESET BUTTON"
   ]
  },
  {
   "cell_type": "code",
   "execution_count": 5,
   "id": "383f1854",
   "metadata": {},
   "outputs": [],
   "source": [
    "# Initialising the widgets\n",
    "slider = widgets.FloatSlider(\n",
    "    value=0.0,\n",
    "    min=data_min,\n",
    "    max=data_max,\n",
    "    step=0.01,\n",
    "    description='Isovalue:',\n",
    "    continuous_update=False,\n",
    "    style={'description_width': 'initial'},\n",
    "    layout=widgets.Layout(width='50%')\n",
    ")\n",
    "\n",
    "reset_button = widgets.Button(description=\"Reset\", button_style='info')\n",
    "\n",
    "# Using FigureWidget instead of Figure to avoid re-rendering\n",
    "isosurface_widget = go.FigureWidget(create_isosurface(0.0))\n",
    "histogram_widget = go.FigureWidget(create_histogram())"
   ]
  },
  {
   "cell_type": "markdown",
   "id": "088c778e",
   "metadata": {},
   "source": [
    "**FUNCTION TO UPDATE THE PLOTS AS PER THE ISOVALUE**"
   ]
  },
  {
   "cell_type": "code",
   "execution_count": 6,
   "id": "a0a487e2",
   "metadata": {},
   "outputs": [],
   "source": [
    "def update_plots(isovalue, hist=True):\n",
    "    isosurface_widget.data[0].isomin = isovalue\n",
    "    isosurface_widget.data[0].isomax = isovalue\n",
    "    isosurface_widget.layout.title.text = f\"Isosurface at isovalue = {isovalue:.2f}\"\n",
    "    \n",
    "    if hist:\n",
    "        mask = np.abs(flat_val - isovalue) <= 0.25\n",
    "        histogram_widget.data[0].x = flat_val[mask]\n",
    "    else:\n",
    "        histogram_widget.data[0].x = flat_val"
   ]
  },
  {
   "cell_type": "markdown",
   "id": "c45c6d94",
   "metadata": {},
   "source": [
    "**RESET FUNCTION** ->  RESETS TO ISOVALUE = 0.0"
   ]
  },
  {
   "cell_type": "code",
   "execution_count": 7,
   "id": "0eba9d83",
   "metadata": {},
   "outputs": [],
   "source": [
    "def reset(event=None):\n",
    "    slider.value = 0.0\n",
    "    update_plots(0.0, hist=False)\n",
    "\n",
    "slider.observe(lambda change: update_plots(change['new']), names='value')\n",
    "reset_button.on_click(reset)"
   ]
  },
  {
   "cell_type": "markdown",
   "id": "50124ae8",
   "metadata": {},
   "source": [
    "**DISPLAY THE FINAL LAYOUT**"
   ]
  },
  {
   "cell_type": "code",
   "execution_count": 8,
   "id": "3977f3fc",
   "metadata": {},
   "outputs": [
    {
     "data": {
      "application/vnd.jupyter.widget-view+json": {
       "model_id": "959e618ccea74a1bb13e160babff810a",
       "version_major": 2,
       "version_minor": 0
      },
      "text/plain": [
       "VBox(children=(HBox(children=(FloatSlider(value=0.0, continuous_update=False, description='Isovalue:', layout=…"
      ]
     },
     "metadata": {},
     "output_type": "display_data"
    }
   ],
   "source": [
    "layout = widgets.VBox([\n",
    "    widgets.HBox([slider, reset_button]),\n",
    "    widgets.HBox([isosurface_widget, histogram_widget])\n",
    "])\n",
    "display(layout)\n",
    "\n"
   ]
  }
 ],
 "metadata": {
  "kernelspec": {
   "display_name": "jupyter-env",
   "language": "python",
   "name": "python3"
  },
  "language_info": {
   "codemirror_mode": {
    "name": "ipython",
    "version": 3
   },
   "file_extension": ".py",
   "mimetype": "text/x-python",
   "name": "python",
   "nbconvert_exporter": "python",
   "pygments_lexer": "ipython3",
   "version": "3.13.3"
  }
 },
 "nbformat": 4,
 "nbformat_minor": 5
}
